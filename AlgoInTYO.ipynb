{
 "cells": [
  {
   "cell_type": "markdown",
   "metadata": {
    "collapsed": true
   },
   "source": [
    "<h1> Scrape Data -> preprocess/clean -> scale -> regression </h1>\n",
    "<h3>by Angelo Cortez (UC Irvine)  Lee Sangbec (UC Berkeley) </h3>"
   ]
  },
  {
   "cell_type": "code",
   "execution_count": 32,
   "metadata": {
    "collapsed": true
   },
   "outputs": [],
   "source": [
    "# Import our needed modules\n",
    "# numpy and pandas to manipulate the csv's dataframe components\n",
    "import numpy as np\n",
    "import pandas as pd"
   ]
  },
  {
   "cell_type": "code",
   "execution_count": 33,
   "metadata": {
    "collapsed": true
   },
   "outputs": [],
   "source": [
    "tyo=pd.read_csv('listings.csv')"
   ]
  },
  {
   "cell_type": "code",
   "execution_count": 34,
   "metadata": {
    "collapsed": true
   },
   "outputs": [],
   "source": [
    "tyo.dropna(axis=0, how='all', inplace=True)"
   ]
  },
  {
   "cell_type": "code",
   "execution_count": 35,
   "metadata": {
    "collapsed": true
   },
   "outputs": [],
   "source": [
    "# Then we import our listings file. We do not want to see blank rows, so we shall delete them with the .dropna method\n",
    "# We want to see if there are any duplicates in the dataframe. We can achieve this by comparing listing ID's.\n",
    "# By using the lambda method below, we can extract the id in the URL, then by applying the .drop_duplciates() method,\n",
    "# we can find delete those with duplicate url's. \n",
    "\n",
    "tyo.url = tyo.url.apply(lambda x:str(x).split('?')[0])\n",
    "tyo = tyo.drop_duplicates(subset=['url'])"
   ]
  },
  {
   "cell_type": "code",
   "execution_count": 36,
   "metadata": {
    "collapsed": true,
    "scrolled": true
   },
   "outputs": [],
   "source": [
    "# We want to reconstruct the Entire_home/apt feature and the book_instantly with dummy variables. \n",
    "# This is achievable by using the .map function.\n",
    "\n",
    "tyo['Entire_home/apt'] = tyo.room_type.map({'Entire home/apt':1, 'Private room': 0, 'Shared room': 0})\n",
    "tyo['book_instantly'] = tyo.instant_book.map({True:1, False: 0 })\n",
    "tyo.drop('instant_book', axis=1, inplace = True)\n",
    "\n",
    "# We don't need the url feature. \n",
    "tyo.drop('url', axis=1, inplace=True)"
   ]
  },
  {
   "cell_type": "code",
   "execution_count": 37,
   "metadata": {
    "collapsed": true
   },
   "outputs": [],
   "source": [
    "# We can also take care of dummies using for loops!\n",
    "\n",
    "booleans=[]\n",
    "for i in tyo.bed_type:\n",
    "    if i == 'Real Bed':\n",
    "        booleans.append(1)\n",
    "    else:\n",
    "        booleans.append(0)\n",
    "tyo['bed_type'] = booleans\n"
   ]
  },
  {
   "cell_type": "code",
   "execution_count": 38,
   "metadata": {
    "collapsed": true
   },
   "outputs": [],
   "source": [
    "# Dropping the cancel policy sice it is uninteresting. \n",
    "\n",
    "tyo.drop('cancel_policy',axis=1, inplace=True)   "
   ]
  },
  {
   "cell_type": "code",
   "execution_count": 39,
   "metadata": {
    "collapsed": true
   },
   "outputs": [],
   "source": [
    "tyo.drop(0, axis=0, inplace=True)\n",
    "tyo.drop('room_type', axis=1, inplace = True)\n",
    "X = tyo.drop(['price','amenities','response_time'], axis=1)\n",
    "y = tyo.price\n",
    "# Set X and Y variables here. \n"
   ]
  },
  {
   "cell_type": "code",
   "execution_count": 40,
   "metadata": {},
   "outputs": [
    {
     "data": {
      "text/plain": [
       "satisfaction_guest      28\n",
       "rating_communication    28\n",
       "rating_cleanliness      28\n",
       "rating_checkin          28\n",
       "accuracy                28\n",
       "dtype: int64"
      ]
     },
     "execution_count": 40,
     "metadata": {},
     "output_type": "execute_result"
    }
   ],
   "source": [
    "X.isnull().sum().sort_values(ascending=False).head() \n"
   ]
  },
  {
   "cell_type": "code",
   "execution_count": 41,
   "metadata": {
    "collapsed": true
   },
   "outputs": [],
   "source": [
    "def show_best(grid_pipe):\n",
    "    print(f'Best params: {grid_pipe.best_params_} \\nBest score: {-1*grid_pipe.best_score_}')"
   ]
  },
  {
   "cell_type": "code",
   "execution_count": 42,
   "metadata": {},
   "outputs": [],
   "source": [
    "from sklearn.cross_validation import train_test_split\n",
    "\n",
    "X_train, X_test, y_train, y_test = train_test_split(X, y, test_size=0.2, random_state=20)\n"
   ]
  },
  {
   "cell_type": "code",
   "execution_count": 43,
   "metadata": {},
   "outputs": [],
   "source": [
    "from sklearn.grid_search import GridSearchCV\n",
    "from sklearn.preprocessing import Imputer\n",
    "from sklearn.pipeline import Pipeline\n",
    "from sklearn.preprocessing import StandardScaler\n",
    "from sklearn.ensemble import GradientBoostingRegressor"
   ]
  },
  {
   "cell_type": "code",
   "execution_count": 44,
   "metadata": {
    "scrolled": true
   },
   "outputs": [
    {
     "data": {
      "text/plain": [
       "GridSearchCV(cv=5, error_score='raise',\n",
       "       estimator=Pipeline(memory=None,\n",
       "     steps=[('imp', Imputer(axis=0, copy=True, missing_values='NaN', strategy='mean', verbose=0)), ('rgr', GradientBoostingRegressor(alpha=0.9, criterion='friedman_mse', init=None,\n",
       "             learning_rate=0.1, loss='ls', max_depth=3, max_features=None,\n",
       "             max_leaf_nodes=None, min_impurity_de...s=100, presort='auto', random_state=None,\n",
       "             subsample=1.0, verbose=0, warm_start=False))]),\n",
       "       fit_params={}, iid=True, n_jobs=1,\n",
       "       param_grid={'rgr__n_estimators': [80, 90, 100, 110, 120, 130, 140, 150, 160, 170, 180, 190], 'rgr__max_depth': [3], 'rgr__learning_rate': [0.1], 'rgr__min_samples_split': [4, 6, 8], 'rgr__loss': ['ls', 'lad'], 'rgr__max_features': [1.0, 0.8, 0.5, 0.3, 0.1]},\n",
       "       pre_dispatch='2*n_jobs', refit=True,\n",
       "       scoring='neg_median_absolute_error', verbose=0)"
      ]
     },
     "execution_count": 44,
     "metadata": {},
     "output_type": "execute_result"
    }
   ],
   "source": [
    "\n",
    "pipeline3 = Pipeline([\n",
    "    ('imp', Imputer(missing_values='NaN', strategy = 'mean', axis=0)),\n",
    "    ('rgr', GradientBoostingRegressor())\n",
    "])\n",
    "\n",
    "tuned_parameters = {\n",
    "    \"rgr__n_estimators\":      [ n for n in range(80,200,10)],\n",
    "    \"rgr__max_depth\" :        [ 3  ],\n",
    "    \"rgr__learning_rate\":     [   0.1],\n",
    "    \"rgr__min_samples_split\" :[ 4,    6    , 8],\n",
    "    \"rgr__loss\" :             [ 'ls', 'lad'                  ],\n",
    "    \"rgr__max_features\":      [ 1.0, 0.8,  0.5, 0.3   , 0.1    ]}\n",
    "\n",
    "noScalePipe = GridSearchCV(pipeline3, tuned_parameters, cv=5, scoring='neg_median_absolute_error')\n",
    "noScalePipe.fit(X_train, y_train)"
   ]
  },
  {
   "cell_type": "code",
   "execution_count": 45,
   "metadata": {
    "scrolled": false
   },
   "outputs": [
    {
     "name": "stdout",
     "output_type": "stream",
     "text": [
      "Best params: {'rgr__learning_rate': 0.1, 'rgr__loss': 'lad', 'rgr__max_depth': 3, 'rgr__max_features': 0.5, 'rgr__min_samples_split': 4, 'rgr__n_estimators': 130} \n",
      "Best score: 13.865838570478287\n"
     ]
    }
   ],
   "source": [
    "show_best(noScalePipe)"
   ]
  },
  {
   "cell_type": "code",
   "execution_count": 73,
   "metadata": {},
   "outputs": [],
   "source": [
    "x = noScalePipe.fit(X_train, y_train)\n"
   ]
  },
  {
   "cell_type": "markdown",
   "metadata": {},
   "source": [
    "Now we instantiate the GBRegressor into a new pipeline so we can extract feature importances from it (scikit-learn deos not allow us to extract feature importances from a gridsearched pipeline). "
   ]
  },
  {
   "cell_type": "code",
   "execution_count": 86,
   "metadata": {},
   "outputs": [
    {
     "data": {
      "text/plain": [
       "Pipeline(memory=None,\n",
       "     steps=[('imp', Imputer(axis=0, copy=True, missing_values='NaN', strategy='mean', verbose=0)), ('rgr', GradientBoostingRegressor(alpha=0.9, criterion='friedman_mse', init=None,\n",
       "             learning_rate=0.1, loss='lad', max_depth=3, max_features=0.8,\n",
       "             max_leaf_nodes=None, min_impurity_de...s=180, presort='auto', random_state=None,\n",
       "             subsample=1.0, verbose=0, warm_start=False))])"
      ]
     },
     "execution_count": 86,
     "metadata": {},
     "output_type": "execute_result"
    }
   ],
   "source": [
    "gbt = GradientBoostingRegressor(alpha=0.9, criterion='friedman_mse', init=None,\n",
    "               learning_rate=0.1, loss='lad', max_depth=3, max_features=0.8,\n",
    "               max_leaf_nodes=None, min_impurity_decrease=0.0,\n",
    "               min_impurity_split=None, min_samples_leaf=1,\n",
    "               min_samples_split=6, min_weight_fraction_leaf=0.0,\n",
    "               n_estimators=180, presort='auto', random_state=None,\n",
    "               subsample=1.0, verbose=0, warm_start=False)\n",
    "pipeline = Pipeline([\n",
    "    ('imp', Imputer(missing_values='NaN', strategy = 'mean', axis=0)),\n",
    "    ('rgr', gbt)\n",
    "])\n",
    "pipeline.fit(X_train, y_train)"
   ]
  },
  {
   "cell_type": "code",
   "execution_count": 87,
   "metadata": {},
   "outputs": [
    {
     "data": {
      "text/plain": [
       "<matplotlib.text.Text at 0x1a12432710>"
      ]
     },
     "execution_count": 87,
     "metadata": {},
     "output_type": "execute_result"
    },
    {
     "data": {
      "image/png": "[encoded data removed]",
      "text/plain": [
       "<matplotlib.figure.Figure at 0x1a1bcb82e8>"
      ]
     },
     "metadata": {},
     "output_type": "display_data"
    }
   ],
   "source": [
    "feature_importance = gbt.feature_importances_\n",
    "# make importances relative to max importance\n",
    "feature_importance = 100.0 * (feature_importance / feature_importance.max())\n",
    "sorted_idx = np.argsort(feature_importance)\n",
    "pos = np.arange(sorted_idx.shape[0]) + .5\n",
    "pvals = feature_importance[sorted_idx]\n",
    "pcols = X_train.columns[sorted_idx]\n",
    "plt.figure(figsize=(8,12))\n",
    "plt.barh(pos, pvals, align='center')\n",
    "plt.yticks(pos, pcols)\n",
    "plt.xlabel('Relative Importance')\n",
    "plt.title('Variable Importance')\n",
    "\n",
    "#As expected, person capacity was the most important variable when predicting price"
   ]
  },
  {
   "cell_type": "markdown",
   "metadata": {},
   "source": [
    "We can see that the median absolute error was around $13 with the GBRegressor. Now let's compare it to other statistical models below. "
   ]
  },
  {
   "cell_type": "code",
   "execution_count": 17,
   "metadata": {
    "collapsed": true
   },
   "outputs": [],
   "source": [
    "imp = Imputer(missing_values='NaN', strategy = 'mean', axis=0)\n",
    "imp.fit(X)\n",
    "X = pd.DataFrame(data=imp.transform(X), columns=X.columns)\n",
    "X_train, X_test, y_train, y_test = train_test_split(X, y, test_size=0.2, random_state=20)"
   ]
  },
  {
   "cell_type": "code",
   "execution_count": 18,
   "metadata": {},
   "outputs": [
    {
     "name": "stdout",
     "output_type": "stream",
     "text": [
      "[ 21.82790829  21.79494255  21.94992209  22.29651961  21.12379855\n",
      "  23.7814173 ]\n"
     ]
    },
    {
     "data": {
      "image/png": "[encoded data removed]",
      "text/plain": [
       "<matplotlib.figure.Figure at 0x1a12e2deb8>"
      ]
     },
     "metadata": {},
     "output_type": "display_data"
    }
   ],
   "source": [
    "# get median error values using sklearn. \n",
    "# use matplotlib to graph the calculations\n",
    "from sklearn import linear_model\n",
    "import sklearn.metrics as metrics\n",
    "import matplotlib.pyplot as plt\n",
    "from sklearn import ensemble\n",
    "\n",
    "\n",
    "%matplotlib inline\n",
    "\n",
    "rs = 1\n",
    "\n",
    "ests = [ linear_model.LinearRegression(), linear_model.Ridge(),\n",
    "        linear_model.Lasso(), linear_model.ElasticNet(),\n",
    "        linear_model.BayesianRidge(), linear_model.OrthogonalMatchingPursuit() ]\n",
    "ests_labels = np.array(['Linear Reg. ', 'Ridge Reg.', 'Lasso', 'ElasticNet', 'BayesRidge', 'OMP'])\n",
    "errvals = np.array([])\n",
    "\n",
    "for e in ests:\n",
    "    e.fit(X_train, y_train)\n",
    "    this_err = metrics.median_absolute_error(y_test, e.predict(X_test))\n",
    "    #print \"got error %0.2f\" % this_err\n",
    "    errvals = np.append(errvals, this_err)\n",
    "\n",
    "    \n",
    "pos = np.arange(errvals.shape[0])\n",
    "srt = np.argsort(errvals)\n",
    "plt.figure(figsize=(10,6))\n",
    "plt.bar(pos, errvals[srt], align='center')\n",
    "plt.xticks(pos, ests_labels[srt])\n",
    "plt.xlabel('Estimator')\n",
    "plt.ylabel('Median Absolute Error')\n",
    "print(errvals)\n",
    "\n",
    "# calculate median error using gradient boosting regression\n"
   ]
  },
  {
   "cell_type": "markdown",
   "metadata": {},
   "source": [
    "<li> We can see that other untuned statistical estimators give us a median absolute error rate of around 21 to 23 dollars. At an error of about 13 dollars, we can conclude that GBRegressor serves as a more accurate estimator.  </li>"
   ]
  },
  {
   "cell_type": "code",
   "execution_count": 88,
   "metadata": {
    "scrolled": false
   },
   "outputs": [
    {
     "data": {
      "text/plain": [
       "(array([  0.5,   1.5,   2.5,   3.5,   4.5,   5.5,   6.5,   7.5,   8.5,\n",
       "          9.5,  10.5]), <a list of 11 Text xticklabel objects>)"
      ]
     },
     "execution_count": 88,
     "metadata": {},
     "output_type": "execute_result"
    },
    {
     "data": {
      "image/png": "[encoded data removed]",
      "text/plain": [
       "<matplotlib.figure.Figure at 0x1a1be193c8>"
      ]
     },
     "metadata": {},
     "output_type": "display_data"
    }
   ],
   "source": [
    "# Below we can see the Pearson's r correlation of the listings data. \n",
    "# Pearson's r measures the strength of the linear relationship between two variables. \n",
    "# We can see that the most correlated to price is the person capacity of a listing. \n",
    "\n",
    "pears= X = tyo.drop(['amenities','response_time'], axis=1)\n",
    "import seaborn as sns\n",
    "%matplotlib inline\n",
    "corr_matrix = pears.corr()\n",
    "sns.heatmap(corr_matrix, square=True)\n",
    "plt.yticks(rotation=0)\n",
    "plt.xticks(rotation=90)"
   ]
  },
  {
   "cell_type": "code",
   "execution_count": 18,
   "metadata": {},
   "outputs": [
    {
     "data": {
      "image/png": "[encoded data removed]",
      "text/plain": [
       "<matplotlib.figure.Figure at 0x1a1aeec208>"
      ]
     },
     "metadata": {},
     "output_type": "display_data"
    }
   ],
   "source": [
    "plt.scatter(tyo.person_capacity,tyo.price)\n",
    "plt.xlabel(\"Person Capacity\")\n",
    "plt.ylabel(\"Listing Price\")\n",
    "plt.title(\"Relationship between Person Capacity and Listing Price for listings\")\n",
    "plt.show()"
   ]
  },
  {
   "cell_type": "code",
   "execution_count": null,
   "metadata": {
    "collapsed": true
   },
   "outputs": [],
   "source": []
  }
 ],
 "metadata": {
  "anaconda-cloud": {},
  "kernelspec": {
   "display_name": "Python 3",
   "language": "python",
   "name": "python3"
  },
  "language_info": {
   "codemirror_mode": {
    "name": "ipython",
    "version": 3
   },
   "file_extension": ".py",
   "mimetype": "text/x-python",
   "name": "python",
   "nbconvert_exporter": "python",
   "pygments_lexer": "ipython3",
   "version": "3.6.2"
  }
 },
 "nbformat": 4,
 "nbformat_minor": 1
}
