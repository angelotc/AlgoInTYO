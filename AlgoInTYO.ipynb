{
 "cells": [
  {
   "cell_type": "markdown",
   "metadata": {
    "collapsed": true
   },
   "source": [
    "<h1> Scrape Data -> preprocess/clean -> scale -> regression </h1>\n",
    "<h3>by Angelo Cortez (UC Irvine)  Lee Sangbec (UC Berkeley) </h3>"
   ]
  },
  {
   "cell_type": "code",
   "execution_count": 1,
   "metadata": {
    "collapsed": true
   },
   "outputs": [],
   "source": [
    "# Import our needed modules\n",
    "# numpy and pandas to manipulate the csv's dataframe components\n",
    "import numpy as np\n",
    "import pandas as pd"
   ]
  },
  {
   "cell_type": "code",
   "execution_count": 2,
   "metadata": {
    "collapsed": true
   },
   "outputs": [],
   "source": [
    "tyo=pd.read_csv('listings.csv')"
   ]
  },
  {
   "cell_type": "code",
   "execution_count": 3,
   "metadata": {
    "collapsed": true
   },
   "outputs": [],
   "source": [
    "tyo.dropna(axis=0, how='all', inplace=True)"
   ]
  },
  {
   "cell_type": "code",
   "execution_count": 4,
   "metadata": {
    "collapsed": true
   },
   "outputs": [],
   "source": [
    "# Then we import our listings file. We do not want to see blank rows, so we shall delete them with the .dropna method\n",
    "\n",
    "# We want to look if there are any duplicates in the dataframe. We can achieve this by comparing listing ID's.\n",
    "# The url can be parsed through with the split method. \n",
    "tyo.url = tyo.url.apply(lambda x:str(x).split('?')[0])\n",
    "tyo = tyo.drop_duplicates(subset=['url'])"
   ]
  },
  {
   "cell_type": "code",
   "execution_count": 5,
   "metadata": {
    "collapsed": true,
    "scrolled": true
   },
   "outputs": [],
   "source": [
    "# We want to reconstruct the Entire_home/apt feature with dummy variables. \n",
    "# This is achievable by using the .map function.\n",
    "\n",
    "tyo['Entire_home/apt'] = tyo.room_type.map({'Entire home/apt':1, 'Private room': 0, 'Shared room': 0})\n",
    "\n",
    "\n",
    "tyo['book_instantly'] = tyo.instant_book.map({True:1, False: 0 })\n",
    "tyo.drop('instant_book', axis=1, inplace = True)\n",
    "\n",
    "# We don't need the url feature. \n",
    "tyo.drop('url', axis=1, inplace=True)"
   ]
  },
  {
   "cell_type": "code",
   "execution_count": 6,
   "metadata": {
    "collapsed": true
   },
   "outputs": [],
   "source": [
    "# we take care of dummy variables using this function, or we can use the .fillna further down below\n",
    "\n",
    "booleans=[]\n",
    "for i in tyo.bed_type:\n",
    "    if i == 'Real Bed':\n",
    "        booleans.append(1)\n",
    "    else:\n",
    "        booleans.append(0)\n",
    "tyo['bed_type'] = booleans\n"
   ]
  },
  {
   "cell_type": "code",
   "execution_count": 7,
   "metadata": {
    "collapsed": true
   },
   "outputs": [],
   "source": [
    "# Dropping the cancel policy since it is uninteresting. \n",
    "tyo.drop('cancel_policy',axis=1, inplace=True)   "
   ]
  },
  {
   "cell_type": "code",
   "execution_count": 8,
   "metadata": {
    "collapsed": true
   },
   "outputs": [],
   "source": [
    "tyo.drop(0, axis=0, inplace=True)\n",
    "\n",
    "# Set X and Y variables here. \n",
    "\n",
    "X = tyo.drop(['price','amenities','response_time'], axis=1)\n",
    "y = tyo.price\n"
   ]
  },
  {
   "cell_type": "code",
   "execution_count": 9,
   "metadata": {
    "scrolled": true
   },
   "outputs": [
    {
     "data": {
      "text/plain": [
       "book_instantly        0\n",
       "Entire_home/apt       0\n",
       "satisfaction_guest    0\n",
       "rev_count             0\n",
       "response_rate         0\n",
       "dtype: int64"
      ]
     },
     "execution_count": 9,
     "metadata": {},
     "output_type": "execute_result"
    }
   ],
   "source": [
    "# Imputer - replaces the null values using a strategy and axis. \n",
    "# second way to fill nullv values\n",
    "\n",
    "\n",
    "from sklearn.preprocessing import Imputer\n",
    "\n",
    "imp = Imputer(missing_values='NaN', strategy = 'median', axis=0)\n",
    "imp.fit(X)\n",
    "X = pd.DataFrame(data=imp.transform(X), columns=X.columns)\n",
    "\n",
    "# We can see that there are no missing values in each column. \n",
    "X.isnull().sum().sort_values(ascending=False).head() "
   ]
  },
  {
   "cell_type": "code",
   "execution_count": 10,
   "metadata": {
    "collapsed": true
   },
   "outputs": [],
   "source": [
    "# We will use this to compare our three hypotheses \n",
    "def print_best(gridsearch):\n",
    "    '''Print the best estimator, best parameters, and best score given a gridsearch method.'''\n",
    "    print('Best estimator: {} \\n Hyperparameters: {} \\n Best score: {}'.format(gridsearch.best_estimator_,\n",
    "                                                                           gridsearch.best_params_, \n",
    "                                                                           abs(gridsearch.best_score_)))"
   ]
  },
  {
   "cell_type": "markdown",
   "metadata": {},
   "source": [
    "<h1>Hypothesis 1: </h1>\n",
    "First, we want to check the error while using the MinMaxScaler(), then we shall use the StandardScaler() to see which provides the more accurate median absolute error. "
   ]
  },
  {
   "cell_type": "code",
   "execution_count": 19,
   "metadata": {
    "scrolled": true
   },
   "outputs": [
    {
     "name": "stdout",
     "output_type": "stream",
     "text": [
      "[ 21.77544359  20.92288508  20.75108711  28.3764615   21.23460242\n",
      "  23.44951189]\n",
      "Processing GSCV ... \n",
      "GSCV finished ...\n"
     ]
    },
    {
     "data": {
      "image/png": "[encoded data removed]",
      "text/plain": [
       "<matplotlib.figure.Figure at 0x10eabd6d8>"
      ]
     },
     "metadata": {},
     "output_type": "display_data"
    }
   ],
   "source": [
    "# get median error values using sklearn. \n",
    "# use matplotlib to graph the calculations\n",
    "\n",
    "\n",
    "from sklearn import ensemble\n",
    "from sklearn import linear_model\n",
    "from sklearn.grid_search import GridSearchCV\n",
    "from sklearn import preprocessing\n",
    "from sklearn.cross_validation import train_test_split\n",
    "from sklearn.preprocessing import MinMaxScaler, StandardScaler\n",
    "import sklearn.metrics as metrics\n",
    "import matplotlib.pyplot as plt\n",
    "from collections import Counter\n",
    "\n",
    "%matplotlib inline\n",
    "\n",
    "rs = 1\n",
    "\n",
    "ests = [ linear_model.LinearRegression(), linear_model.Ridge(),\n",
    "        linear_model.Lasso(), linear_model.ElasticNet(),\n",
    "        linear_model.BayesianRidge(), linear_model.OrthogonalMatchingPursuit() ]\n",
    "ests_labels = np.array(['Linear Reg. ', 'Ridge Reg.', 'Lasso', 'ElasticNet', 'BayesRidge', 'OMP'])\n",
    "errvals = np.array([])\n",
    "\n",
    "X_train, X_test, y_train, y_test = train_test_split(X, y, test_size=0.4, random_state=20)\n",
    "\n",
    "\n",
    "scaler = MinMaxScaler()\n",
    "X_train_MMS = scaler.fit_transform(X_train)\n",
    "X_test_MMS = scaler.transform(X_test)\n",
    "\n",
    "for e in ests:\n",
    "    e.fit(X_train_MMS, y_train)\n",
    "    this_err = metrics.median_absolute_error(y_test, e.predict(X_test_MMS))\n",
    "    #print \"got error %0.2f\" % this_err\n",
    "    errvals = np.append(errvals, this_err)\n",
    "\n",
    "pos = np.arange(errvals.shape[0])\n",
    "srt = np.argsort(errvals)\n",
    "plt.figure(figsize=(10,6))\n",
    "plt.bar(pos, errvals[srt], align='center')\n",
    "plt.xticks(pos, ests_labels[srt])\n",
    "plt.xlabel('Estimator')\n",
    "plt.ylabel('Median Absolute Error')\n",
    "print(errvals)\n",
    "\n",
    "# calculate median error using gradient boosting regression\n",
    "print('Processing GSCV ... ')\n",
    "n_est = 200\n",
    "tuned_parameters = {\n",
    "    \"n_estimators\":      [ 100, 200,300, 400],\n",
    "    \"max_depth\" :        [ 3   , 4    , 5  , 6],\n",
    "    \"learning_rate\":     [ 0.01, 0.005, 0.1],\n",
    "    \"min_samples_split\" :[ 4,    6    , 8],\n",
    "    \"loss\" :             [ 'ls', 'lad'                  ],\n",
    "    'max_features':      [ 1.0, 0.8,  0.5, 0.3   , 0.1    ]}\n",
    "\n",
    "\n",
    "gbr = ensemble.GradientBoostingRegressor()\n",
    "clf1 = GridSearchCV(gbr, cv=4, param_grid=tuned_parameters, scoring='neg_median_absolute_error')\n",
    "preds1 = clf1.fit(X_train_MMS, y_train)\n",
    "print('GSCV finished ...')"
   ]
  },
  {
   "cell_type": "code",
   "execution_count": 20,
   "metadata": {},
   "outputs": [
    {
     "name": "stdout",
     "output_type": "stream",
     "text": [
      "Best estimator: GradientBoostingRegressor(alpha=0.9, criterion='friedman_mse', init=None,\n",
      "             learning_rate=0.1, loss='lad', max_depth=3, max_features=0.1,\n",
      "             max_leaf_nodes=None, min_impurity_decrease=0.0,\n",
      "             min_impurity_split=None, min_samples_leaf=1,\n",
      "             min_samples_split=4, min_weight_fraction_leaf=0.0,\n",
      "             n_estimators=300, presort='auto', random_state=None,\n",
      "             subsample=1.0, verbose=0, warm_start=False) \n",
      " Hyperparameters: {'learning_rate': 0.1, 'loss': 'lad', 'max_depth': 3, 'max_features': 0.1, 'min_samples_split': 4, 'n_estimators': 300} \n",
      " Best score: 16.71754672236019\n"
     ]
    }
   ],
   "source": [
    "print_best(clf1)"
   ]
  },
  {
   "cell_type": "markdown",
   "metadata": {},
   "source": [
    "<h1>Hypothesis 2: </h1>\n",
    "Consequently, we want to check if we can achieve a lower error rate while keeping the hyperparameters constant, but by using a StandardScaler() instead of MinMaxScaler(). "
   ]
  },
  {
   "cell_type": "code",
   "execution_count": 21,
   "metadata": {
    "scrolled": true
   },
   "outputs": [
    {
     "name": "stdout",
     "output_type": "stream",
     "text": [
      "[ 21.77544359  21.70765704  21.05106617  20.88240077  22.09435131\n",
      "  23.44951189]\n",
      "Processing GSCV ... \n",
      "GSCV finished ...\n"
     ]
    },
    {
     "data": {
      "image/png": "[encoded data removed]",
      "text/plain": [
       "<matplotlib.figure.Figure at 0x10eabdc18>"
      ]
     },
     "metadata": {},
     "output_type": "display_data"
    }
   ],
   "source": [
    "# get median error values using sklearn. \n",
    "# use matplotlib to graph the calculations\n",
    "\n",
    "%matplotlib inline\n",
    "\n",
    "rs = 1\n",
    "\n",
    "ests = [ linear_model.LinearRegression(), linear_model.Ridge(),\n",
    "        linear_model.Lasso(), linear_model.ElasticNet(),\n",
    "        linear_model.BayesianRidge(), linear_model.OrthogonalMatchingPursuit() ]\n",
    "ests_labels = np.array(['Linear Reg. ', 'Ridge Reg.', 'Lasso', 'ElasticNet', 'BayesRidge', 'OMP'])\n",
    "errvals = np.array([])\n",
    "\n",
    "X_train, X_test, y_train, y_test = train_test_split(X, y, test_size=0.4, random_state=20)\n",
    "\n",
    "\n",
    "scaler = StandardScaler()\n",
    "X_train_SS = scaler.fit_transform(X_train)\n",
    "X_test_SS = scaler.transform(X_test)\n",
    "    \n",
    "\n",
    "\n",
    "for e in ests:\n",
    "    e.fit(X_train_SS, y_train)\n",
    "    this_err = metrics.median_absolute_error(y_test, e.predict(X_test_SS))\n",
    "    #print \"got error %0.2f\" % this_err\n",
    "    errvals = np.append(errvals, this_err)\n",
    "\n",
    "pos = np.arange(errvals.shape[0])\n",
    "srt = np.argsort(errvals)\n",
    "plt.figure(figsize=(10,6))\n",
    "plt.bar(pos, errvals[srt], align='center')\n",
    "plt.xticks(pos, ests_labels[srt])\n",
    "plt.xlabel('Estimator')\n",
    "plt.ylabel('Median Absolute Error')\n",
    "print(errvals)\n",
    "\n",
    "# calculate median error using gradient boosting regression\n",
    "print('Processing GSCV ... ')\n",
    "n_est = 200\n",
    "tuned_parameters = {\n",
    "    \"n_estimators\":      [ 100, 200, 300, 400],\n",
    "    \"max_depth\" :        [ 3   , 4    , 5  , 6],\n",
    "    \"learning_rate\":     [ 0.01, 0.005, 0.1],\n",
    "    \"min_samples_split\" :[ 4,    6    , 8],\n",
    "    \"loss\" :             [ 'ls', 'lad'                  ],\n",
    "    'max_features':      [ 1.0, 0.8,  0.5, 0.3   , 0.1    ]}\n",
    "\n",
    "\n",
    "gbr = ensemble.GradientBoostingRegressor()\n",
    "clf2 = GridSearchCV(gbr, cv=4, param_grid=tuned_parameters, scoring='neg_median_absolute_error')\n",
    "preds = clf2.fit(X_train_SS, y_train)\n",
    "print('GSCV finished ...')"
   ]
  },
  {
   "cell_type": "code",
   "execution_count": 22,
   "metadata": {},
   "outputs": [
    {
     "name": "stdout",
     "output_type": "stream",
     "text": [
      "Best estimator: GradientBoostingRegressor(alpha=0.9, criterion='friedman_mse', init=None,\n",
      "             learning_rate=0.1, loss='lad', max_depth=4, max_features=0.3,\n",
      "             max_leaf_nodes=None, min_impurity_decrease=0.0,\n",
      "             min_impurity_split=None, min_samples_leaf=1,\n",
      "             min_samples_split=8, min_weight_fraction_leaf=0.0,\n",
      "             n_estimators=200, presort='auto', random_state=None,\n",
      "             subsample=1.0, verbose=0, warm_start=False) \n",
      " Hyperparameters: {'learning_rate': 0.1, 'loss': 'lad', 'max_depth': 4, 'max_features': 0.3, 'min_samples_split': 8, 'n_estimators': 200} \n",
      " Best score: 16.604628005271273\n"
     ]
    }
   ],
   "source": [
    "print_best(clf2)"
   ]
  },
  {
   "cell_type": "markdown",
   "metadata": {},
   "source": [
    "<h1>Hypothesis 3: </h1>\n",
    "We want to see how the model performs without scaling. "
   ]
  },
  {
   "cell_type": "code",
   "execution_count": 24,
   "metadata": {},
   "outputs": [
    {
     "name": "stdout",
     "output_type": "stream",
     "text": [
      "[ 21.77544359  21.88929822  21.65272339  23.17302765  22.72625336\n",
      "  23.44951189]\n",
      "Processing GSCV ... \n",
      "GSCV finished ...\n"
     ]
    },
    {
     "data": {
      "image/png": "[encoded data removed]",
      "text/plain": [
       "<matplotlib.figure.Figure at 0x1a19fe1f28>"
      ]
     },
     "metadata": {},
     "output_type": "display_data"
    }
   ],
   "source": [
    "# get median error values using sklearn. \n",
    "# use matplotlib to graph the calculations\n",
    "\n",
    "%matplotlib inline\n",
    "\n",
    "rs = 1\n",
    "\n",
    "ests = [ linear_model.LinearRegression(), linear_model.Ridge(),\n",
    "        linear_model.Lasso(), linear_model.ElasticNet(),\n",
    "        linear_model.BayesianRidge(), linear_model.OrthogonalMatchingPursuit() ]\n",
    "ests_labels = np.array(['Linear Reg. ', 'Ridge Reg.', 'Lasso', 'ElasticNet', 'BayesRidge', 'OMP'])\n",
    "errvals = np.array([])\n",
    "\n",
    "for e in ests:\n",
    "    e.fit(X_train, y_train)\n",
    "    this_err = metrics.median_absolute_error(y_test, e.predict(X_test))\n",
    "    #print \"got error %0.2f\" % this_err\n",
    "    errvals = np.append(errvals, this_err)\n",
    "\n",
    "pos = np.arange(errvals.shape[0])\n",
    "srt = np.argsort(errvals)\n",
    "plt.figure(figsize=(10,6))\n",
    "plt.bar(pos, errvals[srt], align='center')\n",
    "plt.xticks(pos, ests_labels[srt])\n",
    "plt.xlabel('Estimator')\n",
    "plt.ylabel('Median Absolute Error')\n",
    "print(errvals)\n",
    "\n",
    "# calculate median error using gradient boosting regression\n",
    "print('Processing GSCV ... ')\n",
    "\n",
    "tuned_parameters = {\n",
    "    \"n_estimators\":      [ 100, 200,300,400],\n",
    "    \"max_depth\" :        [ 3   , 4    , 5  , 6],\n",
    "    \"learning_rate\":     [ 0.01, 0.005, 0.1],\n",
    "    \"min_samples_split\" :[ 4,    6    , 8],\n",
    "    \"loss\" :             [ 'ls', 'lad'                  ],\n",
    "    'max_features':      [ 1.0, 0.8,  0.5, 0.3   , 0.1    ]}\n",
    "\n",
    "\n",
    "gbr = ensemble.GradientBoostingRegressor()\n",
    "clf3 = GridSearchCV(gbr, cv=4, param_grid=tuned_parameters, scoring='neg_median_absolute_error')\n",
    "preds = clf3.fit(X_train, y_train)\n",
    "print('GSCV finished ...')"
   ]
  },
  {
   "cell_type": "code",
   "execution_count": 15,
   "metadata": {},
   "outputs": [
    {
     "name": "stdout",
     "output_type": "stream",
     "text": [
      "Best estimator: GradientBoostingRegressor(alpha=0.9, criterion='friedman_mse', init=None,\n",
      "             learning_rate=0.01, loss='lad', max_depth=3, max_features=1.0,\n",
      "             max_leaf_nodes=None, min_impurity_decrease=0.0,\n",
      "             min_impurity_split=None, min_samples_leaf=1,\n",
      "             min_samples_split=4, min_weight_fraction_leaf=0.0,\n",
      "             n_estimators=200, presort='auto', random_state=None,\n",
      "             subsample=1.0, verbose=0, warm_start=False) \n",
      " Hyperparameters: {'learning_rate': 0.01, 'loss': 'lad', 'max_depth': 3, 'max_features': 1.0, 'min_samples_split': 4, 'n_estimators': 200} \n",
      " Best score: 15.965436260789664\n"
     ]
    }
   ],
   "source": [
    "print_best(clf3)"
   ]
  },
  {
   "cell_type": "code",
   "execution_count": 36,
   "metadata": {},
   "outputs": [
    {
     "data": {
      "text/plain": [
       "<matplotlib.text.Text at 0x1a1ed7c6a0>"
      ]
     },
     "execution_count": 36,
     "metadata": {},
     "output_type": "execute_result"
    },
    {
     "data": {
      "image/png": "[encoded data removed]",
      "text/plain": [
       "<matplotlib.figure.Figure at 0x1a1e80af28>"
      ]
     },
     "metadata": {},
     "output_type": "display_data"
    }
   ],
   "source": [
    "# plot error for each round of boosting\n",
    "test_score = np.zeros(n_est, dtype=np.float64)\n",
    "best = bestparams\n",
    "train_score = best.train_score_\n",
    "for i, y_pred in enumerate(best.staged_predict(X_test)):\n",
    "    test_score[i] = best.loss_(y_test, y_pred)\n",
    "\n",
    "plt.figure(figsize=(12, 6))\n",
    "plt.subplot(1, 2, 1)\n",
    "plt.plot(np.arange(n_est), train_score, 'darkblue', label='Training Set Error')\n",
    "plt.plot(np.arange(n_est), test_score, 'red', label='Test Set Error')\n",
    "plt.legend(loc='upper right')\n",
    "plt.xlabel('Boosting Iterations')\n",
    "plt.ylabel('Least Absolute Deviation')"
   ]
  },
  {
   "cell_type": "code",
   "execution_count": 37,
   "metadata": {},
   "outputs": [
    {
     "ename": "AttributeError",
     "evalue": "'numpy.ndarray' object has no attribute 'columns'",
     "output_type": "error",
     "traceback": [
      "\u001b[0;31m---------------------------------------------------------------------------\u001b[0m",
      "\u001b[0;31mAttributeError\u001b[0m                            Traceback (most recent call last)",
      "\u001b[0;32m<ipython-input-37-0866cad3d8c3>\u001b[0m in \u001b[0;36m<module>\u001b[0;34m()\u001b[0m\n\u001b[1;32m      6\u001b[0m \u001b[0mpos\u001b[0m \u001b[0;34m=\u001b[0m \u001b[0mnp\u001b[0m\u001b[0;34m.\u001b[0m\u001b[0marange\u001b[0m\u001b[0;34m(\u001b[0m\u001b[0msorted_idx\u001b[0m\u001b[0;34m.\u001b[0m\u001b[0mshape\u001b[0m\u001b[0;34m[\u001b[0m\u001b[0;36m0\u001b[0m\u001b[0;34m]\u001b[0m\u001b[0;34m)\u001b[0m \u001b[0;34m+\u001b[0m \u001b[0;36m.5\u001b[0m\u001b[0;34m\u001b[0m\u001b[0m\n\u001b[1;32m      7\u001b[0m \u001b[0mpvals\u001b[0m \u001b[0;34m=\u001b[0m \u001b[0mfeature_importance\u001b[0m\u001b[0;34m[\u001b[0m\u001b[0msorted_idx\u001b[0m\u001b[0;34m]\u001b[0m\u001b[0;34m\u001b[0m\u001b[0m\n\u001b[0;32m----> 8\u001b[0;31m \u001b[0mpcols\u001b[0m \u001b[0;34m=\u001b[0m \u001b[0mX_train\u001b[0m\u001b[0;34m.\u001b[0m\u001b[0mcolumns\u001b[0m\u001b[0;34m[\u001b[0m\u001b[0msorted_idx\u001b[0m\u001b[0;34m]\u001b[0m\u001b[0;34m\u001b[0m\u001b[0m\n\u001b[0m\u001b[1;32m      9\u001b[0m \u001b[0mplt\u001b[0m\u001b[0;34m.\u001b[0m\u001b[0mfigure\u001b[0m\u001b[0;34m(\u001b[0m\u001b[0mfigsize\u001b[0m\u001b[0;34m=\u001b[0m\u001b[0;34m(\u001b[0m\u001b[0;36m8\u001b[0m\u001b[0;34m,\u001b[0m\u001b[0;36m12\u001b[0m\u001b[0;34m)\u001b[0m\u001b[0;34m)\u001b[0m\u001b[0;34m\u001b[0m\u001b[0m\n\u001b[1;32m     10\u001b[0m \u001b[0mplt\u001b[0m\u001b[0;34m.\u001b[0m\u001b[0mbarh\u001b[0m\u001b[0;34m(\u001b[0m\u001b[0mpos\u001b[0m\u001b[0;34m,\u001b[0m \u001b[0mpvals\u001b[0m\u001b[0;34m,\u001b[0m \u001b[0malign\u001b[0m\u001b[0;34m=\u001b[0m\u001b[0;34m'center'\u001b[0m\u001b[0;34m)\u001b[0m\u001b[0;34m\u001b[0m\u001b[0m\n",
      "\u001b[0;31mAttributeError\u001b[0m: 'numpy.ndarray' object has no attribute 'columns'"
     ]
    }
   ],
   "source": [
    "\n",
    "feature_importance = clf.best_estimator_.feature_importances_\n",
    "# make importances relative to max importance\n",
    "feature_importance = 100.0 * (feature_importance / feature_importance.max())\n",
    "sorted_idx = np.argsort(feature_importance)\n",
    "pos = np.arange(sorted_idx.shape[0]) + .5\n",
    "pvals = feature_importance[sorted_idx]\n",
    "pcols = X_train.columns[sorted_idx]\n",
    "plt.figure(figsize=(8,12))\n",
    "plt.barh(pos, pvals, align='center')\n",
    "plt.yticks(pos, pcols)\n",
    "plt.xlabel('Relative Importance')\n",
    "plt.title('Variable Importance')\n",
    "\n",
    "#As expected, person capacity was the most important variable when predicting price"
   ]
  },
  {
   "cell_type": "code",
   "execution_count": 17,
   "metadata": {
    "scrolled": false
   },
   "outputs": [
    {
     "data": {
      "text/plain": [
       "(array([  0.5,   1.5,   2.5,   3.5,   4.5,   5.5,   6.5,   7.5,   8.5,\n",
       "          9.5,  10.5]), <a list of 11 Text xticklabel objects>)"
      ]
     },
     "execution_count": 17,
     "metadata": {},
     "output_type": "execute_result"
    },
    {
     "data": {
      "image/png": "[encoded data removed]",
      "text/plain": [
       "<matplotlib.figure.Figure at 0x110b32940>"
      ]
     },
     "metadata": {},
     "output_type": "display_data"
    }
   ],
   "source": [
    "# Below we can see the Pearson's r correlation of the listings data. \n",
    "# Pearson's r measures the strength of the linear relationship between two variables. \n",
    "# We can see that the most correlated to price is the person capacity of a listing. \n",
    "\n",
    "pears= X = tyo.drop(['amenities','response_time'], axis=1)\n",
    "import seaborn as sns\n",
    "%matplotlib inline\n",
    "corr_matrix = pears.corr()\n",
    "sns.heatmap(corr_matrix, square=True)\n",
    "plt.yticks(rotation=0)\n",
    "plt.xticks(rotation=90)"
   ]
  },
  {
   "cell_type": "code",
   "execution_count": 18,
   "metadata": {},
   "outputs": [
    {
     "data": {
      "image/png": "[encoded data removed]",
      "text/plain": [
       "<matplotlib.figure.Figure at 0x1a1aeec208>"
      ]
     },
     "metadata": {},
     "output_type": "display_data"
    }
   ],
   "source": [
    "plt.scatter(tyo.person_capacity,tyo.price)\n",
    "plt.xlabel(\"Person Capacity\")\n",
    "plt.ylabel(\"Listing Price\")\n",
    "plt.title(\"Relationship between Person Capacity and Listing Price for listings\")\n",
    "plt.show()"
   ]
  },
  {
   "cell_type": "markdown",
   "metadata": {
    "collapsed": true
   },
   "source": [
    "<h2> General conclusion: Scaling was not necessary to perform on the dataset since we achieved lower median absolute error when scaling was not implemented.  </h2>"
   ]
  },
  {
   "cell_type": "code",
   "execution_count": null,
   "metadata": {
    "collapsed": true
   },
   "outputs": [],
   "source": []
  }
 ],
 "metadata": {
  "anaconda-cloud": {},
  "kernelspec": {
   "display_name": "Python 3",
   "language": "python",
   "name": "python3"
  },
  "language_info": {
   "codemirror_mode": {
    "name": "ipython",
    "version": 3
   },
   "file_extension": ".py",
   "mimetype": "text/x-python",
   "name": "python",
   "nbconvert_exporter": "python",
   "pygments_lexer": "ipython3",
   "version": "3.6.2"
  }
 },
 "nbformat": 4,
 "nbformat_minor": 1
}
