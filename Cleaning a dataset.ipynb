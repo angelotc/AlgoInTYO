{
 "cells": [
  {
   "cell_type": "markdown",
   "metadata": {},
   "source": [
    "Data Science workflow:\n",
    "1.  clean/preprocess the data\n",
    "2.  explore the data\n",
    "3.  machine learning pipeline and training"
   ]
  },
  {
   "cell_type": "code",
   "execution_count": 102,
   "metadata": {
    "collapsed": true
   },
   "outputs": [],
   "source": [
    "import pandas as pd"
   ]
  },
  {
   "cell_type": "code",
   "execution_count": 103,
   "metadata": {
    "collapsed": true
   },
   "outputs": [],
   "source": [
    "tyo = pd.read_csv('listings.csv')"
   ]
  },
  {
   "cell_type": "code",
   "execution_count": 122,
   "metadata": {},
   "outputs": [
    {
     "data": {
      "text/html": [
       "<div>\n",
       "<style>\n",
       "    .dataframe thead tr:only-child th {\n",
       "        text-align: right;\n",
       "    }\n",
       "\n",
       "    .dataframe thead th {\n",
       "        text-align: left;\n",
       "    }\n",
       "\n",
       "    .dataframe tbody tr th {\n",
       "        vertical-align: top;\n",
       "    }\n",
       "</style>\n",
       "<table border=\"1\" class=\"dataframe\">\n",
       "  <thead>\n",
       "    <tr style=\"text-align: right;\">\n",
       "      <th></th>\n",
       "      <th>accuracy</th>\n",
       "      <th>amenities</th>\n",
       "      <th>bed_type</th>\n",
       "      <th>cancel_policy</th>\n",
       "      <th>person_capacity</th>\n",
       "      <th>price</th>\n",
       "      <th>rating_checkin</th>\n",
       "      <th>rating_cleanliness</th>\n",
       "      <th>rating_communication</th>\n",
       "      <th>response_rate</th>\n",
       "      <th>response_time</th>\n",
       "      <th>rev_count</th>\n",
       "      <th>satisfaction_guest</th>\n",
       "      <th>Entire_home/apt</th>\n",
       "      <th>book_instantly</th>\n",
       "    </tr>\n",
       "  </thead>\n",
       "  <tbody>\n",
       "    <tr>\n",
       "      <th>1</th>\n",
       "      <td>9</td>\n",
       "      <td>[1, 33, 35, 4, 36, 5, 8, 40, 41, 42, 44, 45, 4...</td>\n",
       "      <td>Real Bed</td>\n",
       "      <td>4.0</td>\n",
       "      <td>16.0</td>\n",
       "      <td>137.0</td>\n",
       "      <td>9.0</td>\n",
       "      <td>8.0</td>\n",
       "      <td>10.0</td>\n",
       "      <td>1.0</td>\n",
       "      <td>1.0</td>\n",
       "      <td>25.0</td>\n",
       "      <td>87.0</td>\n",
       "      <td>1</td>\n",
       "      <td>1</td>\n",
       "    </tr>\n",
       "    <tr>\n",
       "      <th>3</th>\n",
       "      <td>9</td>\n",
       "      <td>[1, 33, 2, 34, 3, 35, 4, 36, 5, 39, 8, 40, 41,...</td>\n",
       "      <td>Real Bed</td>\n",
       "      <td>5.0</td>\n",
       "      <td>5.0</td>\n",
       "      <td>114.0</td>\n",
       "      <td>10.0</td>\n",
       "      <td>9.0</td>\n",
       "      <td>10.0</td>\n",
       "      <td>1.0</td>\n",
       "      <td>1.0</td>\n",
       "      <td>19.0</td>\n",
       "      <td>96.0</td>\n",
       "      <td>1</td>\n",
       "      <td>1</td>\n",
       "    </tr>\n",
       "    <tr>\n",
       "      <th>5</th>\n",
       "      <td>9</td>\n",
       "      <td>[1, 33, 35, 4, 36, 5, 39, 8, 40, 41, 42, 43, 4...</td>\n",
       "      <td>Real Bed</td>\n",
       "      <td>5.0</td>\n",
       "      <td>8.0</td>\n",
       "      <td>100.0</td>\n",
       "      <td>10.0</td>\n",
       "      <td>10.0</td>\n",
       "      <td>10.0</td>\n",
       "      <td>1.0</td>\n",
       "      <td>98.0</td>\n",
       "      <td>23.0</td>\n",
       "      <td>97.0</td>\n",
       "      <td>1</td>\n",
       "      <td>1</td>\n",
       "    </tr>\n",
       "    <tr>\n",
       "      <th>7</th>\n",
       "      <td>10</td>\n",
       "      <td>[1, 33, 3, 35, 4, 36, 5, 37, 38, 8, 40, 41, 43...</td>\n",
       "      <td>Real Bed</td>\n",
       "      <td>4.0</td>\n",
       "      <td>6.0</td>\n",
       "      <td>91.0</td>\n",
       "      <td>10.0</td>\n",
       "      <td>10.0</td>\n",
       "      <td>10.0</td>\n",
       "      <td>1.0</td>\n",
       "      <td>1.0</td>\n",
       "      <td>123.0</td>\n",
       "      <td>98.0</td>\n",
       "      <td>1</td>\n",
       "      <td>1</td>\n",
       "    </tr>\n",
       "    <tr>\n",
       "      <th>9</th>\n",
       "      <td>10</td>\n",
       "      <td>[33, 35, 4, 36, 5, 39, 8, 40, 41, 42, 44, 45, ...</td>\n",
       "      <td>Real Bed</td>\n",
       "      <td>4.0</td>\n",
       "      <td>2.0</td>\n",
       "      <td>46.0</td>\n",
       "      <td>10.0</td>\n",
       "      <td>10.0</td>\n",
       "      <td>10.0</td>\n",
       "      <td>1.0</td>\n",
       "      <td>28.5</td>\n",
       "      <td>5.0</td>\n",
       "      <td>100.0</td>\n",
       "      <td>1</td>\n",
       "      <td>1</td>\n",
       "    </tr>\n",
       "  </tbody>\n",
       "</table>\n",
       "</div>"
      ],
      "text/plain": [
       "  accuracy                                          amenities  bed_type  \\\n",
       "1        9  [1, 33, 35, 4, 36, 5, 8, 40, 41, 42, 44, 45, 4...  Real Bed   \n",
       "3        9  [1, 33, 2, 34, 3, 35, 4, 36, 5, 39, 8, 40, 41,...  Real Bed   \n",
       "5        9  [1, 33, 35, 4, 36, 5, 39, 8, 40, 41, 42, 43, 4...  Real Bed   \n",
       "7       10  [1, 33, 3, 35, 4, 36, 5, 37, 38, 8, 40, 41, 43...  Real Bed   \n",
       "9       10  [33, 35, 4, 36, 5, 39, 8, 40, 41, 42, 44, 45, ...  Real Bed   \n",
       "\n",
       "   cancel_policy  person_capacity  price  rating_checkin  rating_cleanliness  \\\n",
       "1            4.0             16.0  137.0             9.0                 8.0   \n",
       "3            5.0              5.0  114.0            10.0                 9.0   \n",
       "5            5.0              8.0  100.0            10.0                10.0   \n",
       "7            4.0              6.0   91.0            10.0                10.0   \n",
       "9            4.0              2.0   46.0            10.0                10.0   \n",
       "\n",
       "   rating_communication  response_rate  response_time  rev_count  \\\n",
       "1                  10.0            1.0            1.0       25.0   \n",
       "3                  10.0            1.0            1.0       19.0   \n",
       "5                  10.0            1.0           98.0       23.0   \n",
       "7                  10.0            1.0            1.0      123.0   \n",
       "9                  10.0            1.0           28.5        5.0   \n",
       "\n",
       "   satisfaction_guest  Entire_home/apt  book_instantly  \n",
       "1                87.0                1               1  \n",
       "3                96.0                1               1  \n",
       "5                97.0                1               1  \n",
       "7                98.0                1               1  \n",
       "9               100.0                1               1  "
      ]
     },
     "execution_count": 122,
     "metadata": {},
     "output_type": "execute_result"
    }
   ],
   "source": [
    "tyo.head()"
   ]
  },
  {
   "cell_type": "code",
   "execution_count": 105,
   "metadata": {
    "collapsed": true
   },
   "outputs": [],
   "source": [
    "tyo.dropna(axis = 0, how = 'all', inplace = True)"
   ]
  },
  {
   "cell_type": "code",
   "execution_count": 111,
   "metadata": {
    "collapsed": true
   },
   "outputs": [],
   "source": [
    "tyo.url = tyo.url.apply(lambda x :str(x).split('?')[0])"
   ]
  },
  {
   "cell_type": "code",
   "execution_count": 114,
   "metadata": {},
   "outputs": [],
   "source": [
    "tyo.drop_duplicates(subset = ['url'], inplace = True)"
   ]
  },
  {
   "cell_type": "code",
   "execution_count": 115,
   "metadata": {},
   "outputs": [
    {
     "data": {
      "text/plain": [
       "(404, 16)"
      ]
     },
     "execution_count": 115,
     "metadata": {},
     "output_type": "execute_result"
    }
   ],
   "source": [
    "tyo.shape"
   ]
  },
  {
   "cell_type": "code",
   "execution_count": 116,
   "metadata": {
    "collapsed": true
   },
   "outputs": [],
   "source": [
    "tyo['Entire_home/apt'] = tyo.room_type.map({'Entire home/apt':1, 'Private room': 0, 'Shared room': 0})\n"
   ]
  },
  {
   "cell_type": "code",
   "execution_count": 118,
   "metadata": {},
   "outputs": [],
   "source": [
    "tyo['book_instantly'] = tyo.instant_book.map({True:1, False: 0 })"
   ]
  },
  {
   "cell_type": "code",
   "execution_count": 119,
   "metadata": {
    "collapsed": true
   },
   "outputs": [],
   "source": [
    "tyo.drop(['instant_book', 'room_type'], axis=1, inplace = True)\n",
    "tyo.drop('url', axis=1, inplace = True)"
   ]
  },
  {
   "cell_type": "code",
   "execution_count": 121,
   "metadata": {
    "collapsed": true
   },
   "outputs": [],
   "source": [
    "\n"
   ]
  },
  {
   "cell_type": "code",
   "execution_count": 69,
   "metadata": {
    "collapsed": true
   },
   "outputs": [],
   "source": [
    "import numpy as np\n",
    "import pandas as pd\n",
    "\n",
    "tyo=pd.read_csv('listings.csv')\n",
    "tyo.dropna(axis=0, how='all', inplace=True)\n",
    "\n",
    "# Then we import our listings file. We do not want to see blank rows, so we shall delete them with the .dropna method\n",
    "# We want to see if there are any duplicates in the dataframe. We can achieve this by comparing listing ID's.\n",
    "# By using the lambda method below, we can extract the id in the URL, then by applying the .drop_duplciates() method,\n",
    "# we can find delete those with duplicate url's. \n",
    "\n",
    "tyo.url = tyo.url.apply(lambda x:str(x).split('?')[0])\n",
    "tyo = tyo.drop_duplicates(subset=['url'])\n",
    "\n",
    "# We want to reconstruct the Entire_home/apt feature and the book_instantly with dummy variables. \n",
    "# This is achievable by using the .map function.\n",
    "\n",
    "tyo['Entire_home/apt'] = tyo.room_type.map({'Entire home/apt':1, 'Private room': 0, 'Shared room': 0})\n",
    "tyo['book_instantly'] = tyo.instant_book.map({True:1, False: 0 })\n",
    "tyo.drop('instant_book', axis=1, inplace = True)\n",
    "\n",
    "# We don't need the url feature. \n",
    "tyo.drop('url', axis=1, inplace=True)\n",
    "\n",
    "# We can also take care of dummies using for loops!\n",
    "\n",
    "booleans=[]\n",
    "for i in tyo.bed_type:\n",
    "    if i == 'Real Bed':\n",
    "        booleans.append(1)\n",
    "    else:\n",
    "        booleans.append(0)\n",
    "tyo['bed_type'] = booleans\n",
    "\n",
    "\n",
    "# Dropping the cancel policy sice it is uninteresting. \n",
    "\n",
    "tyo.drop('cancel_policy',axis=1, inplace=True) \n",
    "\n",
    "tyo.drop(0, axis=0, inplace=True)\n",
    "tyo.drop('room_type', axis=1, inplace = True)\n",
    "X = tyo.drop(['price','amenities','response_time'], axis=1)\n",
    "y = tyo.price\n",
    "# Set X and Y variables here. \n"
   ]
  }
 ],
 "metadata": {
  "kernelspec": {
   "display_name": "Python 3",
   "language": "python",
   "name": "python3"
  },
  "language_info": {
   "codemirror_mode": {
    "name": "ipython",
    "version": 3
   },
   "file_extension": ".py",
   "mimetype": "text/x-python",
   "name": "python",
   "nbconvert_exporter": "python",
   "pygments_lexer": "ipython3",
   "version": "3.6.2"
  }
 },
 "nbformat": 4,
 "nbformat_minor": 2
}
